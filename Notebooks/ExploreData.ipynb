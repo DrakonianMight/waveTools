{
 "cells": [
  {
   "cell_type": "code",
   "execution_count": 1,
   "metadata": {},
   "outputs": [],
   "source": [
    "import pandas as pd\n",
    "import numpy as np"
   ]
  },
  {
   "cell_type": "markdown",
   "metadata": {},
   "source": [
    "## Read Displacement Files"
   ]
  },
  {
   "cell_type": "code",
   "execution_count": 2,
   "metadata": {},
   "outputs": [],
   "source": [
    "dipl = pd.read_csv(r'F:\\wave_obs\\tweed_2487\\tweed_2487\\2020\\05\\tweed_2487{disp}2020-05-01.csv', sep = '\\t', header = None)\n",
    "dipl.columns = ['timestamp','status','h','n','w']"
   ]
  },
  {
   "cell_type": "code",
   "execution_count": 3,
   "metadata": {},
   "outputs": [],
   "source": [
    "dipl.index = pd.to_datetime(dipl.timestamp, unit = 's')\n",
    "dipl.index.name = 'datetime'"
   ]
  },
  {
   "cell_type": "code",
   "execution_count": 4,
   "metadata": {},
   "outputs": [
    {
     "data": {
      "text/html": [
       "<div>\n",
       "<style scoped>\n",
       "    .dataframe tbody tr th:only-of-type {\n",
       "        vertical-align: middle;\n",
       "    }\n",
       "\n",
       "    .dataframe tbody tr th {\n",
       "        vertical-align: top;\n",
       "    }\n",
       "\n",
       "    .dataframe thead th {\n",
       "        text-align: right;\n",
       "    }\n",
       "</style>\n",
       "<table border=\"1\" class=\"dataframe\">\n",
       "  <thead>\n",
       "    <tr style=\"text-align: right;\">\n",
       "      <th></th>\n",
       "      <th>timestamp</th>\n",
       "      <th>status</th>\n",
       "      <th>h</th>\n",
       "      <th>n</th>\n",
       "      <th>w</th>\n",
       "    </tr>\n",
       "    <tr>\n",
       "      <th>datetime</th>\n",
       "      <th></th>\n",
       "      <th></th>\n",
       "      <th></th>\n",
       "      <th></th>\n",
       "      <th></th>\n",
       "    </tr>\n",
       "  </thead>\n",
       "  <tbody>\n",
       "    <tr>\n",
       "      <th>2020-04-30 23:44:52.250232935</th>\n",
       "      <td>1.588290e+09</td>\n",
       "      <td>0</td>\n",
       "      <td>-0.549495</td>\n",
       "      <td>-0.331852</td>\n",
       "      <td>0.037040</td>\n",
       "    </tr>\n",
       "    <tr>\n",
       "      <th>2020-04-30 23:44:52.640857935</th>\n",
       "      <td>1.588290e+09</td>\n",
       "      <td>0</td>\n",
       "      <td>-0.393114</td>\n",
       "      <td>-0.239833</td>\n",
       "      <td>-0.069262</td>\n",
       "    </tr>\n",
       "    <tr>\n",
       "      <th>2020-04-30 23:44:53.031482934</th>\n",
       "      <td>1.588290e+09</td>\n",
       "      <td>0</td>\n",
       "      <td>-0.354360</td>\n",
       "      <td>-0.106953</td>\n",
       "      <td>-0.235325</td>\n",
       "    </tr>\n",
       "    <tr>\n",
       "      <th>2020-04-30 23:44:53.422107935</th>\n",
       "      <td>1.588290e+09</td>\n",
       "      <td>0</td>\n",
       "      <td>-0.398405</td>\n",
       "      <td>-0.002000</td>\n",
       "      <td>-0.368384</td>\n",
       "    </tr>\n",
       "    <tr>\n",
       "      <th>2020-04-30 23:44:53.812732935</th>\n",
       "      <td>1.588290e+09</td>\n",
       "      <td>0</td>\n",
       "      <td>-0.336808</td>\n",
       "      <td>0.111065</td>\n",
       "      <td>-0.447451</td>\n",
       "    </tr>\n",
       "  </tbody>\n",
       "</table>\n",
       "</div>"
      ],
      "text/plain": [
       "                                  timestamp  status         h         n  \\\n",
       "datetime                                                                  \n",
       "2020-04-30 23:44:52.250232935  1.588290e+09       0 -0.549495 -0.331852   \n",
       "2020-04-30 23:44:52.640857935  1.588290e+09       0 -0.393114 -0.239833   \n",
       "2020-04-30 23:44:53.031482934  1.588290e+09       0 -0.354360 -0.106953   \n",
       "2020-04-30 23:44:53.422107935  1.588290e+09       0 -0.398405 -0.002000   \n",
       "2020-04-30 23:44:53.812732935  1.588290e+09       0 -0.336808  0.111065   \n",
       "\n",
       "                                      w  \n",
       "datetime                                 \n",
       "2020-04-30 23:44:52.250232935  0.037040  \n",
       "2020-04-30 23:44:52.640857935 -0.069262  \n",
       "2020-04-30 23:44:53.031482934 -0.235325  \n",
       "2020-04-30 23:44:53.422107935 -0.368384  \n",
       "2020-04-30 23:44:53.812732935 -0.447451  "
      ]
     },
     "execution_count": 4,
     "metadata": {},
     "output_type": "execute_result"
    }
   ],
   "source": [
    "dipl.head()"
   ]
  },
  {
   "cell_type": "markdown",
   "metadata": {},
   "source": [
    "## Read 1d HeaveSpectrum File (f20)"
   ]
  },
  {
   "cell_type": "code",
   "execution_count": 5,
   "metadata": {},
   "outputs": [],
   "source": [
    "low = []\n",
    "start = 0.025\n",
    "low.append(start)\n",
    "for i in range(45):\n",
    "    start+=0.005\n",
    "    low.append(np.round(start,3))\n",
    "mid = []\n",
    "start = 0.26\n",
    "mid.append(start)\n",
    "for i in range((78-46)):\n",
    "    start+=0.01\n",
    "    mid.append(np.round(start,3))\n",
    "high = []\n",
    "start = 0.6\n",
    "high.append(start)\n",
    "for i in range((100-80)):\n",
    "    start+=0.02\n",
    "    high.append(np.round(start,3))\n",
    "    \n",
    "all1dfreq = low+mid+high"
   ]
  },
  {
   "cell_type": "code",
   "execution_count": 6,
   "metadata": {},
   "outputs": [],
   "source": [
    "spectrum = pd.read_csv(r'F:\\wave_obs\\tweed_2487\\tweed_2487\\2020\\05\\tweed_2487{0xF20}2020-05.csv', sep = '\\t', header = None)"
   ]
  },
  {
   "cell_type": "code",
   "execution_count": 7,
   "metadata": {},
   "outputs": [],
   "source": [
    "spectrum.columns = ['timestamp','datestamp','segments']+all1dfreq"
   ]
  },
  {
   "cell_type": "code",
   "execution_count": 8,
   "metadata": {},
   "outputs": [],
   "source": [
    "spectrum.index = pd.to_datetime(spectrum.timestamp, unit = 's')\n",
    "spectrum.index.name = 'datetime'"
   ]
  },
  {
   "cell_type": "code",
   "execution_count": 9,
   "metadata": {},
   "outputs": [
    {
     "data": {
      "text/plain": [
       "<AxesSubplot:>"
      ]
     },
     "execution_count": 9,
     "metadata": {},
     "output_type": "execute_result"
    },
    {
     "data": {
      "image/png": "[encoded data removed]",
      "text/plain": [
       "<Figure size 432x288 with 1 Axes>"
      ]
     },
     "metadata": {
      "needs_background": "light"
     },
     "output_type": "display_data"
    }
   ],
   "source": [
    "spectrum.iloc[0][3:].T.plot()"
   ]
  },
  {
   "cell_type": "markdown",
   "metadata": {},
   "source": [
    "## Read Primary Directional Spectrum Message"
   ]
  },
  {
   "cell_type": "code",
   "execution_count": 29,
   "metadata": {},
   "outputs": [],
   "source": [
    "Primdirspec = pd.read_csv(r'F:\\wave_obs\\tweed_2487\\tweed_2487\\2020\\05\\tweed_2487{0xF21}2020-05.csv', sep = '\\t', header = None)"
   ]
  },
  {
   "cell_type": "code",
   "execution_count": 40,
   "metadata": {},
   "outputs": [],
   "source": [
    "spreadNames = ['spr'+str(i) for i in range(100)]\n",
    "dirNames = ['dir'+str(i) for i in range(100)]"
   ]
  },
  {
   "cell_type": "code",
   "execution_count": 31,
   "metadata": {},
   "outputs": [],
   "source": [
    "dirs = []\n",
    "d = 0\n",
    "for i in range(100):\n",
    "    dirs.append(np.round(d,2))\n",
    "    d+=3.6"
   ]
  },
  {
   "cell_type": "code",
   "execution_count": 32,
   "metadata": {},
   "outputs": [],
   "source": [
    "Primdirspec.columns = ['timestamp','daystamp','segments']+dirs+spreadNames"
   ]
  },
  {
   "cell_type": "code",
   "execution_count": 38,
   "metadata": {},
   "outputs": [
    {
     "data": {
      "text/plain": [
       "0.0       17.934066\n",
       "3.6      214.769231\n",
       "7.2      142.417582\n",
       "10.8     159.296703\n",
       "14.4     174.153846\n",
       "            ...    \n",
       "338.4    252.483516\n",
       "342.0    248.527473\n",
       "345.6    173.098901\n",
       "349.2    349.802198\n",
       "352.8    270.505495\n",
       "Name: 0, Length: 99, dtype: float64"
      ]
     },
     "execution_count": 38,
     "metadata": {},
     "output_type": "execute_result"
    }
   ],
   "source": [
    "np.rad2deg(Primdirspec.iloc[0,3:102])"
   ]
  },
  {
   "cell_type": "markdown",
   "metadata": {},
   "source": [
    "## Read Secondary Directional Spectrum Message"
   ]
  },
  {
   "cell_type": "code",
   "execution_count": null,
   "metadata": {},
   "outputs": [],
   "source": []
  }
 ],
 "metadata": {
  "kernelspec": {
   "display_name": "Python 3",
   "language": "python",
   "name": "python3"
  },
  "language_info": {
   "codemirror_mode": {
    "name": "ipython",
    "version": 3
   },
   "file_extension": ".py",
   "mimetype": "text/x-python",
   "name": "python",
   "nbconvert_exporter": "python",
   "pygments_lexer": "ipython3",
   "version": "3.7.9"
  }
 },
 "nbformat": 4,
 "nbformat_minor": 4
}
