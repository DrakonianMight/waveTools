{
 "cells": [
  {
   "cell_type": "markdown",
   "id": "driving-digit",
   "metadata": {},
   "source": [
    "# Piece together a datawell spectrum"
   ]
  },
  {
   "cell_type": "code",
   "execution_count": 1,
   "id": "sustained-buying",
   "metadata": {},
   "outputs": [],
   "source": [
    "import pandas as pd\n",
    "import numpy as np\n",
    "import matplotlib.pyplot as plt\n",
    "from src.waveTools import readDatawell, waveStats"
   ]
  },
  {
   "cell_type": "code",
   "execution_count": 52,
   "id": "restricted-mississippi",
   "metadata": {},
   "outputs": [],
   "source": [
    "dirsec = readDatawell.readSecDirSpectrum('./example_data/brisbane_4183{0xF28}2020-02.csv')"
   ]
  },
  {
   "cell_type": "code",
   "execution_count": 53,
   "id": "mexican-while",
   "metadata": {},
   "outputs": [
    {
     "data": {
      "text/html": [
       "<div>\n",
       "<style scoped>\n",
       "    .dataframe tbody tr th:only-of-type {\n",
       "        vertical-align: middle;\n",
       "    }\n",
       "\n",
       "    .dataframe tbody tr th {\n",
       "        vertical-align: top;\n",
       "    }\n",
       "\n",
       "    .dataframe thead th {\n",
       "        text-align: right;\n",
       "    }\n",
       "</style>\n",
       "<table border=\"1\" class=\"dataframe\">\n",
       "  <thead>\n",
       "    <tr style=\"text-align: right;\">\n",
       "      <th></th>\n",
       "      <th>timestamp</th>\n",
       "      <th>daystamp</th>\n",
       "      <th>segments</th>\n",
       "      <th>cosine_0</th>\n",
       "      <th>cosine_1</th>\n",
       "      <th>cosine_2</th>\n",
       "      <th>cosine_3</th>\n",
       "      <th>cosine_4</th>\n",
       "      <th>cosine_5</th>\n",
       "      <th>cosine_6</th>\n",
       "      <th>...</th>\n",
       "      <th>check_90</th>\n",
       "      <th>check_91</th>\n",
       "      <th>check_92</th>\n",
       "      <th>check_93</th>\n",
       "      <th>check_94</th>\n",
       "      <th>check_95</th>\n",
       "      <th>check_96</th>\n",
       "      <th>check_97</th>\n",
       "      <th>check_98</th>\n",
       "      <th>check_99</th>\n",
       "    </tr>\n",
       "    <tr>\n",
       "      <th>datetime</th>\n",
       "      <th></th>\n",
       "      <th></th>\n",
       "      <th></th>\n",
       "      <th></th>\n",
       "      <th></th>\n",
       "      <th></th>\n",
       "      <th></th>\n",
       "      <th></th>\n",
       "      <th></th>\n",
       "      <th></th>\n",
       "      <th></th>\n",
       "      <th></th>\n",
       "      <th></th>\n",
       "      <th></th>\n",
       "      <th></th>\n",
       "      <th></th>\n",
       "      <th></th>\n",
       "      <th></th>\n",
       "      <th></th>\n",
       "      <th></th>\n",
       "      <th></th>\n",
       "    </tr>\n",
       "  </thead>\n",
       "  <tbody>\n",
       "    <tr>\n",
       "      <th>2020-01-31 23:30:00</th>\n",
       "      <td>1580513400</td>\n",
       "      <td>31134</td>\n",
       "      <td>17</td>\n",
       "      <td>0.14509</td>\n",
       "      <td>-0.121153</td>\n",
       "      <td>0.014656</td>\n",
       "      <td>0.185149</td>\n",
       "      <td>0.218857</td>\n",
       "      <td>-0.086957</td>\n",
       "      <td>-0.182218</td>\n",
       "      <td>...</td>\n",
       "      <td>0.531951</td>\n",
       "      <td>0.687802</td>\n",
       "      <td>0.791337</td>\n",
       "      <td>0.760524</td>\n",
       "      <td>0.865581</td>\n",
       "      <td>1.024816</td>\n",
       "      <td>1.097446</td>\n",
       "      <td>1.352993</td>\n",
       "      <td>1.318754</td>\n",
       "      <td>1.35828</td>\n",
       "    </tr>\n",
       "  </tbody>\n",
       "</table>\n",
       "<p>1 rows × 303 columns</p>\n",
       "</div>"
      ],
      "text/plain": [
       "                      timestamp  daystamp  segments  cosine_0  cosine_1  \\\n",
       "datetime                                                                  \n",
       "2020-01-31 23:30:00  1580513400     31134        17   0.14509 -0.121153   \n",
       "\n",
       "                     cosine_2  cosine_3  cosine_4  cosine_5  cosine_6  ...  \\\n",
       "datetime                                                               ...   \n",
       "2020-01-31 23:30:00  0.014656  0.185149  0.218857 -0.086957 -0.182218  ...   \n",
       "\n",
       "                     check_90  check_91  check_92  check_93  check_94  \\\n",
       "datetime                                                                \n",
       "2020-01-31 23:30:00  0.531951  0.687802  0.791337  0.760524  0.865581   \n",
       "\n",
       "                     check_95  check_96  check_97  check_98  check_99  \n",
       "datetime                                                               \n",
       "2020-01-31 23:30:00  1.024816  1.097446  1.352993  1.318754   1.35828  \n",
       "\n",
       "[1 rows x 303 columns]"
      ]
     },
     "execution_count": 53,
     "metadata": {},
     "output_type": "execute_result"
    }
   ],
   "source": [
    "dirsec.head(1)"
   ]
  },
  {
   "cell_type": "code",
   "execution_count": 54,
   "id": "bronze-african",
   "metadata": {},
   "outputs": [],
   "source": [
    "m_cols = [col for col in dirsec.columns if 'sine' in col]\n",
    "m_cols = m_cols[0:100]\n",
    "n_cols = [col for col in dirsec.columns if 'cosine' in col]"
   ]
  },
  {
   "cell_type": "code",
   "execution_count": 57,
   "id": "starting-tonight",
   "metadata": {},
   "outputs": [],
   "source": [
    "mcoef = dirsec.head(1)[m_cols]\n",
    "ncoef = dirsec.head(1)[n_cols]"
   ]
  },
  {
   "cell_type": "code",
   "execution_count": 63,
   "id": "about-palace",
   "metadata": {},
   "outputs": [
    {
     "data": {
      "text/html": [
       "<div>\n",
       "<style scoped>\n",
       "    .dataframe tbody tr th:only-of-type {\n",
       "        vertical-align: middle;\n",
       "    }\n",
       "\n",
       "    .dataframe tbody tr th {\n",
       "        vertical-align: top;\n",
       "    }\n",
       "\n",
       "    .dataframe thead th {\n",
       "        text-align: right;\n",
       "    }\n",
       "</style>\n",
       "<table border=\"1\" class=\"dataframe\">\n",
       "  <thead>\n",
       "    <tr style=\"text-align: right;\">\n",
       "      <th>datetime</th>\n",
       "      <th>2020-01-31 23:30:00</th>\n",
       "      <th>2020-01-31 23:30:00</th>\n",
       "    </tr>\n",
       "  </thead>\n",
       "  <tbody>\n",
       "    <tr>\n",
       "      <th>cosine_0</th>\n",
       "      <td>0.145090</td>\n",
       "      <td>0.145090</td>\n",
       "    </tr>\n",
       "    <tr>\n",
       "      <th>cosine_1</th>\n",
       "      <td>-0.121153</td>\n",
       "      <td>-0.121153</td>\n",
       "    </tr>\n",
       "    <tr>\n",
       "      <th>cosine_2</th>\n",
       "      <td>0.014656</td>\n",
       "      <td>0.014656</td>\n",
       "    </tr>\n",
       "    <tr>\n",
       "      <th>cosine_3</th>\n",
       "      <td>0.185149</td>\n",
       "      <td>0.185149</td>\n",
       "    </tr>\n",
       "    <tr>\n",
       "      <th>cosine_4</th>\n",
       "      <td>0.218857</td>\n",
       "      <td>0.218857</td>\n",
       "    </tr>\n",
       "    <tr>\n",
       "      <th>...</th>\n",
       "      <td>...</td>\n",
       "      <td>...</td>\n",
       "    </tr>\n",
       "    <tr>\n",
       "      <th>cosine_95</th>\n",
       "      <td>0.285784</td>\n",
       "      <td>0.285784</td>\n",
       "    </tr>\n",
       "    <tr>\n",
       "      <th>cosine_96</th>\n",
       "      <td>0.545188</td>\n",
       "      <td>0.545188</td>\n",
       "    </tr>\n",
       "    <tr>\n",
       "      <th>cosine_97</th>\n",
       "      <td>0.398144</td>\n",
       "      <td>0.398144</td>\n",
       "    </tr>\n",
       "    <tr>\n",
       "      <th>cosine_98</th>\n",
       "      <td>0.583781</td>\n",
       "      <td>0.583781</td>\n",
       "    </tr>\n",
       "    <tr>\n",
       "      <th>cosine_99</th>\n",
       "      <td>0.629213</td>\n",
       "      <td>0.629213</td>\n",
       "    </tr>\n",
       "  </tbody>\n",
       "</table>\n",
       "<p>100 rows × 2 columns</p>\n",
       "</div>"
      ],
      "text/plain": [
       "datetime   2020-01-31 23:30:00  2020-01-31 23:30:00\n",
       "cosine_0              0.145090             0.145090\n",
       "cosine_1             -0.121153            -0.121153\n",
       "cosine_2              0.014656             0.014656\n",
       "cosine_3              0.185149             0.185149\n",
       "cosine_4              0.218857             0.218857\n",
       "...                        ...                  ...\n",
       "cosine_95             0.285784             0.285784\n",
       "cosine_96             0.545188             0.545188\n",
       "cosine_97             0.398144             0.398144\n",
       "cosine_98             0.583781             0.583781\n",
       "cosine_99             0.629213             0.629213\n",
       "\n",
       "[100 rows x 2 columns]"
      ]
     },
     "execution_count": 63,
     "metadata": {},
     "output_type": "execute_result"
    }
   ],
   "source": [
    "pd.concat([mcoef.T, ncoef.T], axis =1)"
   ]
  },
  {
   "cell_type": "code",
   "execution_count": 7,
   "id": "hybrid-commissioner",
   "metadata": {},
   "outputs": [],
   "source": [
    "dirprim = readDatawell.readPrimDirSpectrum('./example_data/brisbane_4183{0xF21}2020-02.csv')"
   ]
  },
  {
   "cell_type": "code",
   "execution_count": 9,
   "id": "pediatric-variation",
   "metadata": {},
   "outputs": [
    {
     "data": {
      "text/html": [
       "<div>\n",
       "<style scoped>\n",
       "    .dataframe tbody tr th:only-of-type {\n",
       "        vertical-align: middle;\n",
       "    }\n",
       "\n",
       "    .dataframe tbody tr th {\n",
       "        vertical-align: top;\n",
       "    }\n",
       "\n",
       "    .dataframe thead th {\n",
       "        text-align: right;\n",
       "    }\n",
       "</style>\n",
       "<table border=\"1\" class=\"dataframe\">\n",
       "  <thead>\n",
       "    <tr style=\"text-align: right;\">\n",
       "      <th></th>\n",
       "      <th>timestamp</th>\n",
       "      <th>daystamp</th>\n",
       "      <th>segments</th>\n",
       "      <th>dir0</th>\n",
       "      <th>dir1</th>\n",
       "      <th>dir2</th>\n",
       "      <th>dir3</th>\n",
       "      <th>dir4</th>\n",
       "      <th>dir5</th>\n",
       "      <th>dir6</th>\n",
       "      <th>...</th>\n",
       "      <th>spr90</th>\n",
       "      <th>spr91</th>\n",
       "      <th>spr92</th>\n",
       "      <th>spr93</th>\n",
       "      <th>spr94</th>\n",
       "      <th>spr95</th>\n",
       "      <th>spr96</th>\n",
       "      <th>spr97</th>\n",
       "      <th>spr98</th>\n",
       "      <th>spr99</th>\n",
       "    </tr>\n",
       "    <tr>\n",
       "      <th>datetime</th>\n",
       "      <th></th>\n",
       "      <th></th>\n",
       "      <th></th>\n",
       "      <th></th>\n",
       "      <th></th>\n",
       "      <th></th>\n",
       "      <th></th>\n",
       "      <th></th>\n",
       "      <th></th>\n",
       "      <th></th>\n",
       "      <th></th>\n",
       "      <th></th>\n",
       "      <th></th>\n",
       "      <th></th>\n",
       "      <th></th>\n",
       "      <th></th>\n",
       "      <th></th>\n",
       "      <th></th>\n",
       "      <th></th>\n",
       "      <th></th>\n",
       "      <th></th>\n",
       "    </tr>\n",
       "  </thead>\n",
       "  <tbody>\n",
       "    <tr>\n",
       "      <th>2020-01-31 23:30:00</th>\n",
       "      <td>1580513400</td>\n",
       "      <td>31134</td>\n",
       "      <td>17</td>\n",
       "      <td>4.012339</td>\n",
       "      <td>3.010405</td>\n",
       "      <td>2.858504</td>\n",
       "      <td>3.570445</td>\n",
       "      <td>3.671712</td>\n",
       "      <td>2.049899</td>\n",
       "      <td>1.77218</td>\n",
       "      <td>...</td>\n",
       "      <td>1.36059</td>\n",
       "      <td>1.262774</td>\n",
       "      <td>1.153068</td>\n",
       "      <td>1.284255</td>\n",
       "      <td>1.196797</td>\n",
       "      <td>1.215209</td>\n",
       "      <td>1.222881</td>\n",
       "      <td>1.243595</td>\n",
       "      <td>1.159205</td>\n",
       "      <td>1.192578</td>\n",
       "    </tr>\n",
       "  </tbody>\n",
       "</table>\n",
       "<p>1 rows × 203 columns</p>\n",
       "</div>"
      ],
      "text/plain": [
       "                      timestamp  daystamp  segments      dir0      dir1  \\\n",
       "datetime                                                                  \n",
       "2020-01-31 23:30:00  1580513400     31134        17  4.012339  3.010405   \n",
       "\n",
       "                         dir2      dir3      dir4      dir5     dir6  ...  \\\n",
       "datetime                                                              ...   \n",
       "2020-01-31 23:30:00  2.858504  3.570445  3.671712  2.049899  1.77218  ...   \n",
       "\n",
       "                       spr90     spr91     spr92     spr93     spr94  \\\n",
       "datetime                                                               \n",
       "2020-01-31 23:30:00  1.36059  1.262774  1.153068  1.284255  1.196797   \n",
       "\n",
       "                        spr95     spr96     spr97     spr98     spr99  \n",
       "datetime                                                               \n",
       "2020-01-31 23:30:00  1.215209  1.222881  1.243595  1.159205  1.192578  \n",
       "\n",
       "[1 rows x 203 columns]"
      ]
     },
     "execution_count": 9,
     "metadata": {},
     "output_type": "execute_result"
    }
   ],
   "source": [
    "dirprim.head(1)"
   ]
  },
  {
   "cell_type": "code",
   "execution_count": 13,
   "id": "joined-mexican",
   "metadata": {},
   "outputs": [],
   "source": [
    "spec1d = readDatawell.readSpectrum1D_f20('./example_data/brisbane_4183{0xF20}2020-02.csv')"
   ]
  },
  {
   "cell_type": "code",
   "execution_count": 31,
   "id": "dutch-brooks",
   "metadata": {},
   "outputs": [
    {
     "data": {
      "text/html": [
       "<div>\n",
       "<style scoped>\n",
       "    .dataframe tbody tr th:only-of-type {\n",
       "        vertical-align: middle;\n",
       "    }\n",
       "\n",
       "    .dataframe tbody tr th {\n",
       "        vertical-align: top;\n",
       "    }\n",
       "\n",
       "    .dataframe thead th {\n",
       "        text-align: right;\n",
       "    }\n",
       "</style>\n",
       "<table border=\"1\" class=\"dataframe\">\n",
       "  <thead>\n",
       "    <tr style=\"text-align: right;\">\n",
       "      <th></th>\n",
       "      <th>0.025</th>\n",
       "      <th>0.030</th>\n",
       "      <th>0.035</th>\n",
       "      <th>0.040</th>\n",
       "      <th>0.045</th>\n",
       "      <th>0.050</th>\n",
       "      <th>0.055</th>\n",
       "      <th>0.060</th>\n",
       "      <th>0.065</th>\n",
       "      <th>0.070</th>\n",
       "      <th>...</th>\n",
       "      <th>0.820</th>\n",
       "      <th>0.840</th>\n",
       "      <th>0.860</th>\n",
       "      <th>0.880</th>\n",
       "      <th>0.900</th>\n",
       "      <th>0.920</th>\n",
       "      <th>0.940</th>\n",
       "      <th>0.960</th>\n",
       "      <th>0.980</th>\n",
       "      <th>1.000</th>\n",
       "    </tr>\n",
       "    <tr>\n",
       "      <th>datetime</th>\n",
       "      <th></th>\n",
       "      <th></th>\n",
       "      <th></th>\n",
       "      <th></th>\n",
       "      <th></th>\n",
       "      <th></th>\n",
       "      <th></th>\n",
       "      <th></th>\n",
       "      <th></th>\n",
       "      <th></th>\n",
       "      <th></th>\n",
       "      <th></th>\n",
       "      <th></th>\n",
       "      <th></th>\n",
       "      <th></th>\n",
       "      <th></th>\n",
       "      <th></th>\n",
       "      <th></th>\n",
       "      <th></th>\n",
       "      <th></th>\n",
       "      <th></th>\n",
       "    </tr>\n",
       "  </thead>\n",
       "  <tbody>\n",
       "    <tr>\n",
       "      <th>2020-01-31 23:30:00</th>\n",
       "      <td>0.000025</td>\n",
       "      <td>0.000477</td>\n",
       "      <td>0.002024</td>\n",
       "      <td>0.002815</td>\n",
       "      <td>0.002773</td>\n",
       "      <td>0.006391</td>\n",
       "      <td>0.015255</td>\n",
       "      <td>0.034465</td>\n",
       "      <td>0.054595</td>\n",
       "      <td>0.079039</td>\n",
       "      <td>...</td>\n",
       "      <td>0.00124</td>\n",
       "      <td>0.000634</td>\n",
       "      <td>0.000527</td>\n",
       "      <td>0.000504</td>\n",
       "      <td>0.000281</td>\n",
       "      <td>0.000199</td>\n",
       "      <td>0.000109</td>\n",
       "      <td>0.000058</td>\n",
       "      <td>0.000075</td>\n",
       "      <td>0.000011</td>\n",
       "    </tr>\n",
       "  </tbody>\n",
       "</table>\n",
       "<p>1 rows × 100 columns</p>\n",
       "</div>"
      ],
      "text/plain": [
       "                        0.025     0.030     0.035     0.040     0.045  \\\n",
       "datetime                                                                \n",
       "2020-01-31 23:30:00  0.000025  0.000477  0.002024  0.002815  0.002773   \n",
       "\n",
       "                        0.050     0.055     0.060     0.065     0.070  ...  \\\n",
       "datetime                                                               ...   \n",
       "2020-01-31 23:30:00  0.006391  0.015255  0.034465  0.054595  0.079039  ...   \n",
       "\n",
       "                       0.820     0.840     0.860     0.880     0.900  \\\n",
       "datetime                                                               \n",
       "2020-01-31 23:30:00  0.00124  0.000634  0.000527  0.000504  0.000281   \n",
       "\n",
       "                        0.920     0.940     0.960     0.980     1.000  \n",
       "datetime                                                               \n",
       "2020-01-31 23:30:00  0.000199  0.000109  0.000058  0.000075  0.000011  \n",
       "\n",
       "[1 rows x 100 columns]"
      ]
     },
     "execution_count": 31,
     "metadata": {},
     "output_type": "execute_result"
    }
   ],
   "source": [
    "energy = spec1d.head(1).iloc[:,3:]\n",
    "energy"
   ]
  },
  {
   "cell_type": "code",
   "execution_count": 32,
   "id": "small-disclaimer",
   "metadata": {},
   "outputs": [],
   "source": [
    "freqs = readDatawell.datawellFreqBins1d()\n",
    "freqs = np.array(freqs)"
   ]
  },
  {
   "cell_type": "code",
   "execution_count": 34,
   "id": "checked-analysis",
   "metadata": {},
   "outputs": [],
   "source": [
    "dir_cols = [col for col in dirprim.columns if 'dir' in col]\n",
    "spr_cols = [col for col in dirprim.columns if 'spr' in col]"
   ]
  },
  {
   "cell_type": "code",
   "execution_count": 23,
   "id": "coastal-rebecca",
   "metadata": {},
   "outputs": [
    {
     "data": {
      "text/html": [
       "<div>\n",
       "<style scoped>\n",
       "    .dataframe tbody tr th:only-of-type {\n",
       "        vertical-align: middle;\n",
       "    }\n",
       "\n",
       "    .dataframe tbody tr th {\n",
       "        vertical-align: top;\n",
       "    }\n",
       "\n",
       "    .dataframe thead th {\n",
       "        text-align: right;\n",
       "    }\n",
       "</style>\n",
       "<table border=\"1\" class=\"dataframe\">\n",
       "  <thead>\n",
       "    <tr style=\"text-align: right;\">\n",
       "      <th></th>\n",
       "      <th>dir0</th>\n",
       "      <th>dir1</th>\n",
       "      <th>dir2</th>\n",
       "      <th>dir3</th>\n",
       "      <th>dir4</th>\n",
       "      <th>dir5</th>\n",
       "      <th>dir6</th>\n",
       "      <th>dir7</th>\n",
       "      <th>dir8</th>\n",
       "      <th>dir9</th>\n",
       "      <th>...</th>\n",
       "      <th>dir90</th>\n",
       "      <th>dir91</th>\n",
       "      <th>dir92</th>\n",
       "      <th>dir93</th>\n",
       "      <th>dir94</th>\n",
       "      <th>dir95</th>\n",
       "      <th>dir96</th>\n",
       "      <th>dir97</th>\n",
       "      <th>dir98</th>\n",
       "      <th>dir99</th>\n",
       "    </tr>\n",
       "    <tr>\n",
       "      <th>datetime</th>\n",
       "      <th></th>\n",
       "      <th></th>\n",
       "      <th></th>\n",
       "      <th></th>\n",
       "      <th></th>\n",
       "      <th></th>\n",
       "      <th></th>\n",
       "      <th></th>\n",
       "      <th></th>\n",
       "      <th></th>\n",
       "      <th></th>\n",
       "      <th></th>\n",
       "      <th></th>\n",
       "      <th></th>\n",
       "      <th></th>\n",
       "      <th></th>\n",
       "      <th></th>\n",
       "      <th></th>\n",
       "      <th></th>\n",
       "      <th></th>\n",
       "      <th></th>\n",
       "    </tr>\n",
       "  </thead>\n",
       "  <tbody>\n",
       "    <tr>\n",
       "      <th>2020-01-31 23:30:00</th>\n",
       "      <td>229.89011</td>\n",
       "      <td>172.483516</td>\n",
       "      <td>163.78022</td>\n",
       "      <td>204.571429</td>\n",
       "      <td>210.373626</td>\n",
       "      <td>117.450549</td>\n",
       "      <td>101.538462</td>\n",
       "      <td>109.538462</td>\n",
       "      <td>76.131868</td>\n",
       "      <td>86.857143</td>\n",
       "      <td>...</td>\n",
       "      <td>187.164835</td>\n",
       "      <td>140.131868</td>\n",
       "      <td>208.791209</td>\n",
       "      <td>189.89011</td>\n",
       "      <td>195.076923</td>\n",
       "      <td>220.395604</td>\n",
       "      <td>174.681319</td>\n",
       "      <td>220.747253</td>\n",
       "      <td>176.791209</td>\n",
       "      <td>167.384615</td>\n",
       "    </tr>\n",
       "  </tbody>\n",
       "</table>\n",
       "<p>1 rows × 100 columns</p>\n",
       "</div>"
      ],
      "text/plain": [
       "                          dir0        dir1       dir2        dir3        dir4  \\\n",
       "datetime                                                                        \n",
       "2020-01-31 23:30:00  229.89011  172.483516  163.78022  204.571429  210.373626   \n",
       "\n",
       "                           dir5        dir6        dir7       dir8       dir9  \\\n",
       "datetime                                                                        \n",
       "2020-01-31 23:30:00  117.450549  101.538462  109.538462  76.131868  86.857143   \n",
       "\n",
       "                     ...       dir90       dir91       dir92      dir93  \\\n",
       "datetime             ...                                                  \n",
       "2020-01-31 23:30:00  ...  187.164835  140.131868  208.791209  189.89011   \n",
       "\n",
       "                          dir94       dir95       dir96       dir97  \\\n",
       "datetime                                                              \n",
       "2020-01-31 23:30:00  195.076923  220.395604  174.681319  220.747253   \n",
       "\n",
       "                          dir98       dir99  \n",
       "datetime                                     \n",
       "2020-01-31 23:30:00  176.791209  167.384615  \n",
       "\n",
       "[1 rows x 100 columns]"
      ]
     },
     "execution_count": 23,
     "metadata": {},
     "output_type": "execute_result"
    }
   ],
   "source": [
    "bindirs = np.rad2deg(dirprim.head(1)[dir_cols])\n",
    "bindirs"
   ]
  },
  {
   "cell_type": "code",
   "execution_count": 35,
   "id": "revised-france",
   "metadata": {},
   "outputs": [
    {
     "data": {
      "text/html": [
       "<div>\n",
       "<style scoped>\n",
       "    .dataframe tbody tr th:only-of-type {\n",
       "        vertical-align: middle;\n",
       "    }\n",
       "\n",
       "    .dataframe tbody tr th {\n",
       "        vertical-align: top;\n",
       "    }\n",
       "\n",
       "    .dataframe thead th {\n",
       "        text-align: right;\n",
       "    }\n",
       "</style>\n",
       "<table border=\"1\" class=\"dataframe\">\n",
       "  <thead>\n",
       "    <tr style=\"text-align: right;\">\n",
       "      <th></th>\n",
       "      <th>spr0</th>\n",
       "      <th>spr1</th>\n",
       "      <th>spr2</th>\n",
       "      <th>spr3</th>\n",
       "      <th>spr4</th>\n",
       "      <th>spr5</th>\n",
       "      <th>spr6</th>\n",
       "      <th>spr7</th>\n",
       "      <th>spr8</th>\n",
       "      <th>spr9</th>\n",
       "      <th>...</th>\n",
       "      <th>spr90</th>\n",
       "      <th>spr91</th>\n",
       "      <th>spr92</th>\n",
       "      <th>spr93</th>\n",
       "      <th>spr94</th>\n",
       "      <th>spr95</th>\n",
       "      <th>spr96</th>\n",
       "      <th>spr97</th>\n",
       "      <th>spr98</th>\n",
       "      <th>spr99</th>\n",
       "    </tr>\n",
       "    <tr>\n",
       "      <th>datetime</th>\n",
       "      <th></th>\n",
       "      <th></th>\n",
       "      <th></th>\n",
       "      <th></th>\n",
       "      <th></th>\n",
       "      <th></th>\n",
       "      <th></th>\n",
       "      <th></th>\n",
       "      <th></th>\n",
       "      <th></th>\n",
       "      <th></th>\n",
       "      <th></th>\n",
       "      <th></th>\n",
       "      <th></th>\n",
       "      <th></th>\n",
       "      <th></th>\n",
       "      <th></th>\n",
       "      <th></th>\n",
       "      <th></th>\n",
       "      <th></th>\n",
       "      <th></th>\n",
       "    </tr>\n",
       "  </thead>\n",
       "  <tbody>\n",
       "    <tr>\n",
       "      <th>2020-01-31 23:30:00</th>\n",
       "      <td>64.043956</td>\n",
       "      <td>69.516484</td>\n",
       "      <td>70.32967</td>\n",
       "      <td>74.087912</td>\n",
       "      <td>75.692308</td>\n",
       "      <td>66.373626</td>\n",
       "      <td>72.351648</td>\n",
       "      <td>68.637363</td>\n",
       "      <td>67.538462</td>\n",
       "      <td>62.945055</td>\n",
       "      <td>...</td>\n",
       "      <td>77.956044</td>\n",
       "      <td>72.351648</td>\n",
       "      <td>66.065934</td>\n",
       "      <td>73.582418</td>\n",
       "      <td>68.571429</td>\n",
       "      <td>69.626374</td>\n",
       "      <td>70.065934</td>\n",
       "      <td>71.252747</td>\n",
       "      <td>66.417582</td>\n",
       "      <td>68.32967</td>\n",
       "    </tr>\n",
       "  </tbody>\n",
       "</table>\n",
       "<p>1 rows × 100 columns</p>\n",
       "</div>"
      ],
      "text/plain": [
       "                          spr0       spr1      spr2       spr3       spr4  \\\n",
       "datetime                                                                    \n",
       "2020-01-31 23:30:00  64.043956  69.516484  70.32967  74.087912  75.692308   \n",
       "\n",
       "                          spr5       spr6       spr7       spr8       spr9  \\\n",
       "datetime                                                                     \n",
       "2020-01-31 23:30:00  66.373626  72.351648  68.637363  67.538462  62.945055   \n",
       "\n",
       "                     ...      spr90      spr91      spr92      spr93  \\\n",
       "datetime             ...                                               \n",
       "2020-01-31 23:30:00  ...  77.956044  72.351648  66.065934  73.582418   \n",
       "\n",
       "                         spr94      spr95      spr96      spr97      spr98  \\\n",
       "datetime                                                                     \n",
       "2020-01-31 23:30:00  68.571429  69.626374  70.065934  71.252747  66.417582   \n",
       "\n",
       "                        spr99  \n",
       "datetime                       \n",
       "2020-01-31 23:30:00  68.32967  \n",
       "\n",
       "[1 rows x 100 columns]"
      ]
     },
     "execution_count": 35,
     "metadata": {},
     "output_type": "execute_result"
    }
   ],
   "source": [
    "binsprs = np.rad2deg(dirprim.head(1)[spr_cols])\n",
    "binsprs"
   ]
  },
  {
   "cell_type": "code",
   "execution_count": 108,
   "id": "centered-homeless",
   "metadata": {},
   "outputs": [],
   "source": [
    "freqs = pd.DataFrame(freqs)"
   ]
  },
  {
   "cell_type": "code",
   "execution_count": 99,
   "id": "coral-lawsuit",
   "metadata": {},
   "outputs": [],
   "source": [
    "df = pd.DataFrame([mcoef.T.values.reshape(100,), ncoef.T.values.reshape(100,), binsprs.T.values.reshape(100,), bindirs.T.values.reshape(100,), energy.T.values.reshape(100,)]).T"
   ]
  },
  {
   "cell_type": "code",
   "execution_count": 101,
   "id": "ahead-antigua",
   "metadata": {},
   "outputs": [],
   "source": [
    "df.columns = ['m','n','spread','direction','S']"
   ]
  },
  {
   "cell_type": "code",
   "execution_count": 41,
   "id": "designing-rhythm",
   "metadata": {},
   "outputs": [],
   "source": [
    "def truncated_fourier(S_f, direction, a1, b1):\n",
    "    return S_f * (1/(2*np.pi) + (1/np.pi) * ( \\\n",
    "                                             a1*np.cos(np.pi - direction) +\\\n",
    "                                             b1*np.sin(np.pi - direction) +\\\n",
    "                                             a1*np.cos(2*(np.pi - direction)) +\\\n",
    "                                             b1*np.sin(2*(np.pi - direction))\n",
    "                                             ))\n"
   ]
  },
  {
   "cell_type": "code",
   "execution_count": 42,
   "id": "short-dubai",
   "metadata": {},
   "outputs": [],
   "source": [
    "def get_dir_spec_arr(df_dir_spec, df_fc, del_deg=10):\n",
    "    '''\n",
    "    Calculate array of S(f,theta) (directional wave spec)\n",
    "\n",
    "    Spreads the wave spectra for a particular frequency across\n",
    "    wave direction\n",
    "    '''\n",
    "    direction = np.deg2rad(np.arange(0, 370, del_deg))\n",
    "    arr = np.zeros((len(df_dir_spec), len(direction)))\n",
    "    for ind, (ds, fc) in enumerate(zip(df_dir_spec.iterrows(), df_fourier_coefficients.iterrows())):\n",
    "        for j, d in enumerate(direction):\n",
    "            arr[ind,j] = truncated_fourier(ds[1]['S'], d, fc[1]['a1'], fc[1]['a2'], fc[1]['b1'], fc[1]['b2'])\n",
    "\n",
    "    return arr"
   ]
  },
  {
   "cell_type": "code",
   "execution_count": 203,
   "id": "seventh-lawsuit",
   "metadata": {},
   "outputs": [],
   "source": [
    "arr = np.zeros((len(freqs.values.flatten()), len(bindirs.values.flatten())))"
   ]
  },
  {
   "cell_type": "code",
   "execution_count": 204,
   "id": "female-setting",
   "metadata": {},
   "outputs": [
    {
     "data": {
      "text/plain": [
       "(100, 100)"
      ]
     },
     "execution_count": 204,
     "metadata": {},
     "output_type": "execute_result"
    }
   ],
   "source": [
    "arr.shape"
   ]
  },
  {
   "cell_type": "code",
   "execution_count": 205,
   "id": "outside-sculpture",
   "metadata": {},
   "outputs": [],
   "source": [
    "del_deg = 10\n",
    "direction = np.deg2rad(np.arange(0, 370, del_deg))\n",
    "for ind, (ds, fc) in enumerate(zip(freqs.iterrows(), df.iterrows())):\n",
    "    for j, d in enumerate(bindirs.values.flatten()):\n",
    "        arr[ind,j] = truncated_fourier(fc[1]['S'], np.deg2rad(d), fc[1]['m'], fc[1]['n'])"
   ]
  },
  {
   "cell_type": "code",
   "execution_count": 207,
   "id": "cheap-wheat",
   "metadata": {},
   "outputs": [],
   "source": [
    "F, D = np.meshgrid(bindirs.values, 1/freqs)"
   ]
  },
  {
   "cell_type": "code",
   "execution_count": 214,
   "id": "juvenile-midnight",
   "metadata": {},
   "outputs": [],
   "source": [
    "spec_arr = arr.clip(min=0.1)\n",
    "spec_arr = np.ma.masked_equal(spec_arr, 0)\n"
   ]
  },
  {
   "cell_type": "code",
   "execution_count": 244,
   "id": "colored-profession",
   "metadata": {},
   "outputs": [
    {
     "name": "stderr",
     "output_type": "stream",
     "text": [
      "<ipython-input-244-f2ff594cd491>:4: MatplotlibDeprecationWarning: You are modifying the state of a globally registered colormap. This has been deprecated since 3.3 and in 3.6, you will not be able to modify a registered colormap in-place. To remove this warning, you can make a copy of the colormap first. cmap = mpl.cm.get_cmap(\"rainbow\").copy()\n",
      "  cmap.set_under(color = 'white')\n"
     ]
    },
    {
     "data": {
      "text/plain": [
       "Text(0, 0.5, 'm$^2$s/deg')"
      ]
     },
     "execution_count": 244,
     "metadata": {},
     "output_type": "execute_result"
    },
    {
     "data": {
      "image/png": "[encoded data removed]",
      "text/plain": [
       "<Figure size 432x288 with 2 Axes>"
      ]
     },
     "metadata": {
      "needs_background": "light"
     },
     "output_type": "display_data"
    }
   ],
   "source": [
    "ax = plt.subplot(111)\n",
    "#ax = fig.gca(projection='polar')\n",
    "cmap = cm.rainbow\n",
    "cmap.set_under(color = 'white')\n",
    "CS = ax.contourf(F,D, spec_arr, cmap =cmap, vmin = 0.00001, extend = 'both')\n",
    "cbar = plt.colorbar(CS)\n",
    "ax.set_ylim(0, 25)\n",
    "cbar.ax.set_ylabel('m$^2$s/deg')"
   ]
  },
  {
   "cell_type": "code",
   "execution_count": 247,
   "id": "blocked-tuition",
   "metadata": {},
   "outputs": [
    {
     "name": "stderr",
     "output_type": "stream",
     "text": [
      "<ipython-input-247-6ec16cff6c22>:6: MatplotlibDeprecationWarning: You are modifying the state of a globally registered colormap. This has been deprecated since 3.3 and in 3.6, you will not be able to modify a registered colormap in-place. To remove this warning, you can make a copy of the colormap first. cmap = mpl.cm.get_cmap(\"rainbow\").copy()\n",
      "  cmap.set_under(color = 'white')\n"
     ]
    },
    {
     "data": {
      "text/plain": [
       "Text(0, 0.5, 'm$^2$s/deg')"
      ]
     },
     "execution_count": 247,
     "metadata": {},
     "output_type": "execute_result"
    },
    {
     "data": {
      "image/png": "[encoded data removed]",
      "text/plain": [
       "<Figure size 432x288 with 2 Axes>"
      ]
     },
     "metadata": {
      "needs_background": "light"
     },
     "output_type": "display_data"
    }
   ],
   "source": [
    "ax = plt.subplot(111, projection='polar')\n",
    "#ax = fig.gca(projection='polar')\n",
    "ax.set_theta_zero_location(\"N\")\n",
    "ax.set_theta_direction(-1)\n",
    "cmap = cm.rainbow\n",
    "cmap.set_under(color = 'white')\n",
    "CS = ax.contourf(F,D, spec_arr, cmap =cmap, vmin = 0.00001, extend = 'both')\n",
    "ax.set_ylim(0, 25)\n",
    "\n",
    "cbar = plt.colorbar(CS)\n",
    "cbar.ax.set_ylabel('m$^2$s/deg')\n",
    "        "
   ]
  },
  {
   "cell_type": "code",
   "execution_count": 241,
   "id": "composite-ghana",
   "metadata": {},
   "outputs": [
    {
     "ename": "ValueError",
     "evalue": "x and y must be equal-length 1D arrays",
     "output_type": "error",
     "traceback": [
      "\u001b[1;31m---------------------------------------------------------------------------\u001b[0m",
      "\u001b[1;31mValueError\u001b[0m                                Traceback (most recent call last)",
      "\u001b[1;32m<ipython-input-241-d1a97111a7c4>\u001b[0m in \u001b[0;36m<module>\u001b[1;34m\u001b[0m\n\u001b[1;32m----> 1\u001b[1;33m \u001b[0mplt\u001b[0m\u001b[1;33m.\u001b[0m\u001b[0mtricontourf\u001b[0m\u001b[1;33m(\u001b[0m\u001b[0mF\u001b[0m\u001b[1;33m,\u001b[0m\u001b[0mD\u001b[0m\u001b[1;33m,\u001b[0m \u001b[0marr\u001b[0m\u001b[1;33m)\u001b[0m\u001b[1;33m\u001b[0m\u001b[1;33m\u001b[0m\u001b[0m\n\u001b[0m",
      "\u001b[1;32m~\\anaconda3\\envs\\tf_gpu\\lib\\site-packages\\matplotlib\\pyplot.py\u001b[0m in \u001b[0;36mtricontourf\u001b[1;34m(*args, **kwargs)\u001b[0m\n\u001b[0;32m   2968\u001b[0m \u001b[1;33m@\u001b[0m\u001b[0m_copy_docstring_and_deprecators\u001b[0m\u001b[1;33m(\u001b[0m\u001b[0mAxes\u001b[0m\u001b[1;33m.\u001b[0m\u001b[0mtricontourf\u001b[0m\u001b[1;33m)\u001b[0m\u001b[1;33m\u001b[0m\u001b[1;33m\u001b[0m\u001b[0m\n\u001b[0;32m   2969\u001b[0m \u001b[1;32mdef\u001b[0m \u001b[0mtricontourf\u001b[0m\u001b[1;33m(\u001b[0m\u001b[1;33m*\u001b[0m\u001b[0margs\u001b[0m\u001b[1;33m,\u001b[0m \u001b[1;33m**\u001b[0m\u001b[0mkwargs\u001b[0m\u001b[1;33m)\u001b[0m\u001b[1;33m:\u001b[0m\u001b[1;33m\u001b[0m\u001b[1;33m\u001b[0m\u001b[0m\n\u001b[1;32m-> 2970\u001b[1;33m     \u001b[0m__ret\u001b[0m \u001b[1;33m=\u001b[0m \u001b[0mgca\u001b[0m\u001b[1;33m(\u001b[0m\u001b[1;33m)\u001b[0m\u001b[1;33m.\u001b[0m\u001b[0mtricontourf\u001b[0m\u001b[1;33m(\u001b[0m\u001b[1;33m*\u001b[0m\u001b[0margs\u001b[0m\u001b[1;33m,\u001b[0m \u001b[1;33m**\u001b[0m\u001b[0mkwargs\u001b[0m\u001b[1;33m)\u001b[0m\u001b[1;33m\u001b[0m\u001b[1;33m\u001b[0m\u001b[0m\n\u001b[0m\u001b[0;32m   2971\u001b[0m     \u001b[1;32mif\u001b[0m \u001b[0m__ret\u001b[0m\u001b[1;33m.\u001b[0m\u001b[0m_A\u001b[0m \u001b[1;32mis\u001b[0m \u001b[1;32mnot\u001b[0m \u001b[1;32mNone\u001b[0m\u001b[1;33m:\u001b[0m \u001b[0msci\u001b[0m\u001b[1;33m(\u001b[0m\u001b[0m__ret\u001b[0m\u001b[1;33m)\u001b[0m  \u001b[1;31m# noqa\u001b[0m\u001b[1;33m\u001b[0m\u001b[1;33m\u001b[0m\u001b[0m\n\u001b[0;32m   2972\u001b[0m     \u001b[1;32mreturn\u001b[0m \u001b[0m__ret\u001b[0m\u001b[1;33m\u001b[0m\u001b[1;33m\u001b[0m\u001b[0m\n",
      "\u001b[1;32m~\\anaconda3\\envs\\tf_gpu\\lib\\site-packages\\matplotlib\\tri\\tricontour.py\u001b[0m in \u001b[0;36mtricontourf\u001b[1;34m(ax, *args, **kwargs)\u001b[0m\n\u001b[0;32m    305\u001b[0m     \"\"\"\n\u001b[0;32m    306\u001b[0m     \u001b[0mkwargs\u001b[0m\u001b[1;33m[\u001b[0m\u001b[1;34m'filled'\u001b[0m\u001b[1;33m]\u001b[0m \u001b[1;33m=\u001b[0m \u001b[1;32mTrue\u001b[0m\u001b[1;33m\u001b[0m\u001b[1;33m\u001b[0m\u001b[0m\n\u001b[1;32m--> 307\u001b[1;33m     \u001b[1;32mreturn\u001b[0m \u001b[0mTriContourSet\u001b[0m\u001b[1;33m(\u001b[0m\u001b[0max\u001b[0m\u001b[1;33m,\u001b[0m \u001b[1;33m*\u001b[0m\u001b[0margs\u001b[0m\u001b[1;33m,\u001b[0m \u001b[1;33m**\u001b[0m\u001b[0mkwargs\u001b[0m\u001b[1;33m)\u001b[0m\u001b[1;33m\u001b[0m\u001b[1;33m\u001b[0m\u001b[0m\n\u001b[0m",
      "\u001b[1;32m~\\anaconda3\\envs\\tf_gpu\\lib\\site-packages\\matplotlib\\tri\\tricontour.py\u001b[0m in \u001b[0;36m__init__\u001b[1;34m(self, ax, *args, **kwargs)\u001b[0m\n\u001b[0;32m     27\u001b[0m         \u001b[0mare\u001b[0m \u001b[0mdescribed\u001b[0m \u001b[1;32min\u001b[0m \u001b[0mthe\u001b[0m \u001b[0mdocstring\u001b[0m \u001b[0mof\u001b[0m\u001b[0;31m \u001b[0m\u001b[0;31m`\u001b[0m\u001b[1;33m~\u001b[0m\u001b[1;33m.\u001b[0m\u001b[0mAxes\u001b[0m\u001b[1;33m.\u001b[0m\u001b[0mtricontour\u001b[0m\u001b[0;31m`\u001b[0m\u001b[1;33m.\u001b[0m\u001b[1;33m\u001b[0m\u001b[1;33m\u001b[0m\u001b[0m\n\u001b[0;32m     28\u001b[0m         \"\"\"\n\u001b[1;32m---> 29\u001b[1;33m         \u001b[0msuper\u001b[0m\u001b[1;33m(\u001b[0m\u001b[1;33m)\u001b[0m\u001b[1;33m.\u001b[0m\u001b[0m__init__\u001b[0m\u001b[1;33m(\u001b[0m\u001b[0max\u001b[0m\u001b[1;33m,\u001b[0m \u001b[1;33m*\u001b[0m\u001b[0margs\u001b[0m\u001b[1;33m,\u001b[0m \u001b[1;33m**\u001b[0m\u001b[0mkwargs\u001b[0m\u001b[1;33m)\u001b[0m\u001b[1;33m\u001b[0m\u001b[1;33m\u001b[0m\u001b[0m\n\u001b[0m\u001b[0;32m     30\u001b[0m \u001b[1;33m\u001b[0m\u001b[0m\n\u001b[0;32m     31\u001b[0m     \u001b[1;32mdef\u001b[0m \u001b[0m_process_args\u001b[0m\u001b[1;33m(\u001b[0m\u001b[0mself\u001b[0m\u001b[1;33m,\u001b[0m \u001b[1;33m*\u001b[0m\u001b[0margs\u001b[0m\u001b[1;33m,\u001b[0m \u001b[1;33m**\u001b[0m\u001b[0mkwargs\u001b[0m\u001b[1;33m)\u001b[0m\u001b[1;33m:\u001b[0m\u001b[1;33m\u001b[0m\u001b[1;33m\u001b[0m\u001b[0m\n",
      "\u001b[1;32m~\\anaconda3\\envs\\tf_gpu\\lib\\site-packages\\matplotlib\\contour.py\u001b[0m in \u001b[0;36m__init__\u001b[1;34m(self, ax, levels, filled, linewidths, linestyles, hatches, alpha, origin, extent, cmap, colors, norm, vmin, vmax, extend, antialiased, nchunk, locator, transform, *args, **kwargs)\u001b[0m\n\u001b[0;32m    810\u001b[0m         \u001b[0mself\u001b[0m\u001b[1;33m.\u001b[0m\u001b[0m_transform\u001b[0m \u001b[1;33m=\u001b[0m \u001b[0mtransform\u001b[0m\u001b[1;33m\u001b[0m\u001b[1;33m\u001b[0m\u001b[0m\n\u001b[0;32m    811\u001b[0m \u001b[1;33m\u001b[0m\u001b[0m\n\u001b[1;32m--> 812\u001b[1;33m         \u001b[0mkwargs\u001b[0m \u001b[1;33m=\u001b[0m \u001b[0mself\u001b[0m\u001b[1;33m.\u001b[0m\u001b[0m_process_args\u001b[0m\u001b[1;33m(\u001b[0m\u001b[1;33m*\u001b[0m\u001b[0margs\u001b[0m\u001b[1;33m,\u001b[0m \u001b[1;33m**\u001b[0m\u001b[0mkwargs\u001b[0m\u001b[1;33m)\u001b[0m\u001b[1;33m\u001b[0m\u001b[1;33m\u001b[0m\u001b[0m\n\u001b[0m\u001b[0;32m    813\u001b[0m         \u001b[0mself\u001b[0m\u001b[1;33m.\u001b[0m\u001b[0m_process_levels\u001b[0m\u001b[1;33m(\u001b[0m\u001b[1;33m)\u001b[0m\u001b[1;33m\u001b[0m\u001b[1;33m\u001b[0m\u001b[0m\n\u001b[0;32m    814\u001b[0m \u001b[1;33m\u001b[0m\u001b[0m\n",
      "\u001b[1;32m~\\anaconda3\\envs\\tf_gpu\\lib\\site-packages\\matplotlib\\tri\\tricontour.py\u001b[0m in \u001b[0;36m_process_args\u001b[1;34m(self, *args, **kwargs)\u001b[0m\n\u001b[0;32m     43\u001b[0m         \u001b[1;32melse\u001b[0m\u001b[1;33m:\u001b[0m\u001b[1;33m\u001b[0m\u001b[1;33m\u001b[0m\u001b[0m\n\u001b[0;32m     44\u001b[0m             \u001b[1;32mfrom\u001b[0m \u001b[0mmatplotlib\u001b[0m \u001b[1;32mimport\u001b[0m \u001b[0m_tri\u001b[0m\u001b[1;33m\u001b[0m\u001b[1;33m\u001b[0m\u001b[0m\n\u001b[1;32m---> 45\u001b[1;33m             \u001b[0mtri\u001b[0m\u001b[1;33m,\u001b[0m \u001b[0mz\u001b[0m \u001b[1;33m=\u001b[0m \u001b[0mself\u001b[0m\u001b[1;33m.\u001b[0m\u001b[0m_contour_args\u001b[0m\u001b[1;33m(\u001b[0m\u001b[0margs\u001b[0m\u001b[1;33m,\u001b[0m \u001b[0mkwargs\u001b[0m\u001b[1;33m)\u001b[0m\u001b[1;33m\u001b[0m\u001b[1;33m\u001b[0m\u001b[0m\n\u001b[0m\u001b[0;32m     46\u001b[0m             \u001b[0mC\u001b[0m \u001b[1;33m=\u001b[0m \u001b[0m_tri\u001b[0m\u001b[1;33m.\u001b[0m\u001b[0mTriContourGenerator\u001b[0m\u001b[1;33m(\u001b[0m\u001b[0mtri\u001b[0m\u001b[1;33m.\u001b[0m\u001b[0mget_cpp_triangulation\u001b[0m\u001b[1;33m(\u001b[0m\u001b[1;33m)\u001b[0m\u001b[1;33m,\u001b[0m \u001b[0mz\u001b[0m\u001b[1;33m)\u001b[0m\u001b[1;33m\u001b[0m\u001b[1;33m\u001b[0m\u001b[0m\n\u001b[0;32m     47\u001b[0m             \u001b[0mself\u001b[0m\u001b[1;33m.\u001b[0m\u001b[0m_mins\u001b[0m \u001b[1;33m=\u001b[0m \u001b[1;33m[\u001b[0m\u001b[0mtri\u001b[0m\u001b[1;33m.\u001b[0m\u001b[0mx\u001b[0m\u001b[1;33m.\u001b[0m\u001b[0mmin\u001b[0m\u001b[1;33m(\u001b[0m\u001b[1;33m)\u001b[0m\u001b[1;33m,\u001b[0m \u001b[0mtri\u001b[0m\u001b[1;33m.\u001b[0m\u001b[0my\u001b[0m\u001b[1;33m.\u001b[0m\u001b[0mmin\u001b[0m\u001b[1;33m(\u001b[0m\u001b[1;33m)\u001b[0m\u001b[1;33m]\u001b[0m\u001b[1;33m\u001b[0m\u001b[1;33m\u001b[0m\u001b[0m\n",
      "\u001b[1;32m~\\anaconda3\\envs\\tf_gpu\\lib\\site-packages\\matplotlib\\tri\\tricontour.py\u001b[0m in \u001b[0;36m_contour_args\u001b[1;34m(self, args, kwargs)\u001b[0m\n\u001b[0;32m     56\u001b[0m         \u001b[1;32melse\u001b[0m\u001b[1;33m:\u001b[0m\u001b[1;33m\u001b[0m\u001b[1;33m\u001b[0m\u001b[0m\n\u001b[0;32m     57\u001b[0m             \u001b[0mfn\u001b[0m \u001b[1;33m=\u001b[0m \u001b[1;34m'contour'\u001b[0m\u001b[1;33m\u001b[0m\u001b[1;33m\u001b[0m\u001b[0m\n\u001b[1;32m---> 58\u001b[1;33m         tri, args, kwargs = Triangulation.get_from_args_and_kwargs(*args,\n\u001b[0m\u001b[0;32m     59\u001b[0m                                                                    **kwargs)\n\u001b[0;32m     60\u001b[0m         \u001b[0mz\u001b[0m \u001b[1;33m=\u001b[0m \u001b[0mnp\u001b[0m\u001b[1;33m.\u001b[0m\u001b[0mma\u001b[0m\u001b[1;33m.\u001b[0m\u001b[0masarray\u001b[0m\u001b[1;33m(\u001b[0m\u001b[0margs\u001b[0m\u001b[1;33m[\u001b[0m\u001b[1;36m0\u001b[0m\u001b[1;33m]\u001b[0m\u001b[1;33m)\u001b[0m\u001b[1;33m\u001b[0m\u001b[1;33m\u001b[0m\u001b[0m\n",
      "\u001b[1;32m~\\anaconda3\\envs\\tf_gpu\\lib\\site-packages\\matplotlib\\tri\\triangulation.py\u001b[0m in \u001b[0;36mget_from_args_and_kwargs\u001b[1;34m(*args, **kwargs)\u001b[0m\n\u001b[0;32m    162\u001b[0m             \u001b[0mmask\u001b[0m \u001b[1;33m=\u001b[0m \u001b[0mkwargs\u001b[0m\u001b[1;33m.\u001b[0m\u001b[0mpop\u001b[0m\u001b[1;33m(\u001b[0m\u001b[1;34m'mask'\u001b[0m\u001b[1;33m,\u001b[0m \u001b[1;32mNone\u001b[0m\u001b[1;33m)\u001b[0m\u001b[1;33m\u001b[0m\u001b[1;33m\u001b[0m\u001b[0m\n\u001b[0;32m    163\u001b[0m \u001b[1;33m\u001b[0m\u001b[0m\n\u001b[1;32m--> 164\u001b[1;33m             \u001b[0mtriangulation\u001b[0m \u001b[1;33m=\u001b[0m \u001b[0mTriangulation\u001b[0m\u001b[1;33m(\u001b[0m\u001b[0mx\u001b[0m\u001b[1;33m,\u001b[0m \u001b[0my\u001b[0m\u001b[1;33m,\u001b[0m \u001b[0mtriangles\u001b[0m\u001b[1;33m,\u001b[0m \u001b[0mmask\u001b[0m\u001b[1;33m)\u001b[0m\u001b[1;33m\u001b[0m\u001b[1;33m\u001b[0m\u001b[0m\n\u001b[0m\u001b[0;32m    165\u001b[0m         \u001b[1;32mreturn\u001b[0m \u001b[0mtriangulation\u001b[0m\u001b[1;33m,\u001b[0m \u001b[0margs\u001b[0m\u001b[1;33m,\u001b[0m \u001b[0mkwargs\u001b[0m\u001b[1;33m\u001b[0m\u001b[1;33m\u001b[0m\u001b[0m\n\u001b[0;32m    166\u001b[0m \u001b[1;33m\u001b[0m\u001b[0m\n",
      "\u001b[1;32m~\\anaconda3\\envs\\tf_gpu\\lib\\site-packages\\matplotlib\\tri\\triangulation.py\u001b[0m in \u001b[0;36m__init__\u001b[1;34m(self, x, y, triangles, mask)\u001b[0m\n\u001b[0;32m     42\u001b[0m         \u001b[0mself\u001b[0m\u001b[1;33m.\u001b[0m\u001b[0my\u001b[0m \u001b[1;33m=\u001b[0m \u001b[0mnp\u001b[0m\u001b[1;33m.\u001b[0m\u001b[0masarray\u001b[0m\u001b[1;33m(\u001b[0m\u001b[0my\u001b[0m\u001b[1;33m,\u001b[0m \u001b[0mdtype\u001b[0m\u001b[1;33m=\u001b[0m\u001b[0mnp\u001b[0m\u001b[1;33m.\u001b[0m\u001b[0mfloat64\u001b[0m\u001b[1;33m)\u001b[0m\u001b[1;33m\u001b[0m\u001b[1;33m\u001b[0m\u001b[0m\n\u001b[0;32m     43\u001b[0m         \u001b[1;32mif\u001b[0m \u001b[0mself\u001b[0m\u001b[1;33m.\u001b[0m\u001b[0mx\u001b[0m\u001b[1;33m.\u001b[0m\u001b[0mshape\u001b[0m \u001b[1;33m!=\u001b[0m \u001b[0mself\u001b[0m\u001b[1;33m.\u001b[0m\u001b[0my\u001b[0m\u001b[1;33m.\u001b[0m\u001b[0mshape\u001b[0m \u001b[1;32mor\u001b[0m \u001b[0mself\u001b[0m\u001b[1;33m.\u001b[0m\u001b[0mx\u001b[0m\u001b[1;33m.\u001b[0m\u001b[0mndim\u001b[0m \u001b[1;33m!=\u001b[0m \u001b[1;36m1\u001b[0m\u001b[1;33m:\u001b[0m\u001b[1;33m\u001b[0m\u001b[1;33m\u001b[0m\u001b[0m\n\u001b[1;32m---> 44\u001b[1;33m             \u001b[1;32mraise\u001b[0m \u001b[0mValueError\u001b[0m\u001b[1;33m(\u001b[0m\u001b[1;34m\"x and y must be equal-length 1D arrays\"\u001b[0m\u001b[1;33m)\u001b[0m\u001b[1;33m\u001b[0m\u001b[1;33m\u001b[0m\u001b[0m\n\u001b[0m\u001b[0;32m     45\u001b[0m \u001b[1;33m\u001b[0m\u001b[0m\n\u001b[0;32m     46\u001b[0m         \u001b[0mself\u001b[0m\u001b[1;33m.\u001b[0m\u001b[0mmask\u001b[0m \u001b[1;33m=\u001b[0m \u001b[1;32mNone\u001b[0m\u001b[1;33m\u001b[0m\u001b[1;33m\u001b[0m\u001b[0m\n",
      "\u001b[1;31mValueError\u001b[0m: x and y must be equal-length 1D arrays"
     ]
    },
    {
     "data": {
      "image/png": "[encoded data removed]",
      "text/plain": [
       "<Figure size 432x288 with 1 Axes>"
      ]
     },
     "metadata": {
      "needs_background": "light"
     },
     "output_type": "display_data"
    }
   ],
   "source": [
    "plt.tricontourf(F,D, arr)"
   ]
  },
  {
   "cell_type": "code",
   "execution_count": null,
   "id": "trying-humor",
   "metadata": {},
   "outputs": [],
   "source": []
  }
 ],
 "metadata": {
  "kernelspec": {
   "display_name": "Python 3",
   "language": "python",
   "name": "python3"
  },
  "language_info": {
   "codemirror_mode": {
    "name": "ipython",
    "version": 3
   },
   "file_extension": ".py",
   "mimetype": "text/x-python",
   "name": "python",
   "nbconvert_exporter": "python",
   "pygments_lexer": "ipython3",
   "version": "3.8.8"
  }
 },
 "nbformat": 4,
 "nbformat_minor": 5
}
